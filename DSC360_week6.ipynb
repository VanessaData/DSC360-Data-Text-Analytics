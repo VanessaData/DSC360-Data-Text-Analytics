{
  "cells": [
    {
      "cell_type": "markdown",
      "source": [
        "# Vanessa Williams"
      ],
      "metadata": {
        "id": "lp3dD4xE-ORB"
      },
      "id": "lp3dD4xE-ORB"
    },
    {
      "cell_type": "markdown",
      "id": "cc4032ac",
      "metadata": {
        "id": "cc4032ac"
      },
      "source": [
        "# Assignment 6.2"
      ]
    },
    {
      "cell_type": "markdown",
      "id": "6fa66fbb",
      "metadata": {
        "id": "6fa66fbb"
      },
      "source": [
        "# Load data"
      ]
    },
    {
      "cell_type": "code",
      "execution_count": null,
      "id": "93220b74",
      "metadata": {
        "id": "93220b74",
        "outputId": "fc853bb0-fedb-47c0-ceda-7fa82ccfe4fb"
      },
      "outputs": [
        {
          "data": {
            "text/html": [
              "<div>\n",
              "<style scoped>\n",
              "    .dataframe tbody tr th:only-of-type {\n",
              "        vertical-align: middle;\n",
              "    }\n",
              "\n",
              "    .dataframe tbody tr th {\n",
              "        vertical-align: top;\n",
              "    }\n",
              "\n",
              "    .dataframe thead th {\n",
              "        text-align: right;\n",
              "    }\n",
              "</style>\n",
              "<table border=\"1\" class=\"dataframe\">\n",
              "  <thead>\n",
              "    <tr style=\"text-align: right;\">\n",
              "      <th></th>\n",
              "      <th>rating</th>\n",
              "      <th>date</th>\n",
              "      <th>variation</th>\n",
              "      <th>verified_reviews</th>\n",
              "      <th>feedback</th>\n",
              "    </tr>\n",
              "  </thead>\n",
              "  <tbody>\n",
              "    <tr>\n",
              "      <th>0</th>\n",
              "      <td>5</td>\n",
              "      <td>31-Jul-18</td>\n",
              "      <td>Charcoal Fabric</td>\n",
              "      <td>Love my Echo!</td>\n",
              "      <td>1</td>\n",
              "    </tr>\n",
              "    <tr>\n",
              "      <th>1</th>\n",
              "      <td>5</td>\n",
              "      <td>31-Jul-18</td>\n",
              "      <td>Charcoal Fabric</td>\n",
              "      <td>Loved it!</td>\n",
              "      <td>1</td>\n",
              "    </tr>\n",
              "    <tr>\n",
              "      <th>2</th>\n",
              "      <td>4</td>\n",
              "      <td>31-Jul-18</td>\n",
              "      <td>Walnut Finish</td>\n",
              "      <td>Sometimes while playing a game, you can answer...</td>\n",
              "      <td>1</td>\n",
              "    </tr>\n",
              "    <tr>\n",
              "      <th>3</th>\n",
              "      <td>5</td>\n",
              "      <td>31-Jul-18</td>\n",
              "      <td>Charcoal Fabric</td>\n",
              "      <td>I have had a lot of fun with this thing. My 4 ...</td>\n",
              "      <td>1</td>\n",
              "    </tr>\n",
              "    <tr>\n",
              "      <th>4</th>\n",
              "      <td>5</td>\n",
              "      <td>31-Jul-18</td>\n",
              "      <td>Charcoal Fabric</td>\n",
              "      <td>Music</td>\n",
              "      <td>1</td>\n",
              "    </tr>\n",
              "  </tbody>\n",
              "</table>\n",
              "</div>"
            ],
            "text/plain": [
              "   rating       date         variation   \n",
              "0       5  31-Jul-18  Charcoal Fabric   \\\n",
              "1       5  31-Jul-18  Charcoal Fabric    \n",
              "2       4  31-Jul-18    Walnut Finish    \n",
              "3       5  31-Jul-18  Charcoal Fabric    \n",
              "4       5  31-Jul-18  Charcoal Fabric    \n",
              "\n",
              "                                    verified_reviews  feedback  \n",
              "0                                      Love my Echo!         1  \n",
              "1                                          Loved it!         1  \n",
              "2  Sometimes while playing a game, you can answer...         1  \n",
              "3  I have had a lot of fun with this thing. My 4 ...         1  \n",
              "4                                              Music         1  "
            ]
          },
          "execution_count": 2,
          "metadata": {},
          "output_type": "execute_result"
        }
      ],
      "source": [
        "import pandas as pd\n",
        "\n",
        "# Load the TSV file\n",
        "file_path = '/Users/vanessawilliams/Desktop/Vanessa_Williams/amazon_alexa.tsv'\n",
        "data = pd.read_csv(file_path, sep='\\t')\n",
        "\n",
        "# Check the first few rows\n",
        "data.head()"
      ]
    },
    {
      "cell_type": "markdown",
      "id": "164fa9a9",
      "metadata": {
        "id": "164fa9a9"
      },
      "source": [
        "# Preprocess the text data"
      ]
    },
    {
      "cell_type": "code",
      "execution_count": null,
      "id": "014bd110",
      "metadata": {
        "id": "014bd110",
        "outputId": "287d33c5-0173-4c75-fefb-fdbcff08343e"
      },
      "outputs": [
        {
          "data": {
            "text/html": [
              "<div>\n",
              "<style scoped>\n",
              "    .dataframe tbody tr th:only-of-type {\n",
              "        vertical-align: middle;\n",
              "    }\n",
              "\n",
              "    .dataframe tbody tr th {\n",
              "        vertical-align: top;\n",
              "    }\n",
              "\n",
              "    .dataframe thead th {\n",
              "        text-align: right;\n",
              "    }\n",
              "</style>\n",
              "<table border=\"1\" class=\"dataframe\">\n",
              "  <thead>\n",
              "    <tr style=\"text-align: right;\">\n",
              "      <th></th>\n",
              "      <th>verified_reviews</th>\n",
              "      <th>cleaned_reviews</th>\n",
              "    </tr>\n",
              "  </thead>\n",
              "  <tbody>\n",
              "    <tr>\n",
              "      <th>0</th>\n",
              "      <td>Love my Echo!</td>\n",
              "      <td>love my echo</td>\n",
              "    </tr>\n",
              "    <tr>\n",
              "      <th>1</th>\n",
              "      <td>Loved it!</td>\n",
              "      <td>loved it</td>\n",
              "    </tr>\n",
              "    <tr>\n",
              "      <th>2</th>\n",
              "      <td>Sometimes while playing a game, you can answer...</td>\n",
              "      <td>sometimes while playing a game you can answer ...</td>\n",
              "    </tr>\n",
              "    <tr>\n",
              "      <th>3</th>\n",
              "      <td>I have had a lot of fun with this thing. My 4 ...</td>\n",
              "      <td>i have had a lot of fun with this thing my  yr...</td>\n",
              "    </tr>\n",
              "    <tr>\n",
              "      <th>4</th>\n",
              "      <td>Music</td>\n",
              "      <td>music</td>\n",
              "    </tr>\n",
              "  </tbody>\n",
              "</table>\n",
              "</div>"
            ],
            "text/plain": [
              "                                    verified_reviews   \n",
              "0                                      Love my Echo!  \\\n",
              "1                                          Loved it!   \n",
              "2  Sometimes while playing a game, you can answer...   \n",
              "3  I have had a lot of fun with this thing. My 4 ...   \n",
              "4                                              Music   \n",
              "\n",
              "                                     cleaned_reviews  \n",
              "0                                       love my echo  \n",
              "1                                           loved it  \n",
              "2  sometimes while playing a game you can answer ...  \n",
              "3  i have had a lot of fun with this thing my  yr...  \n",
              "4                                              music  "
            ]
          },
          "execution_count": 5,
          "metadata": {},
          "output_type": "execute_result"
        }
      ],
      "source": [
        "import re\n",
        "\n",
        "# Function to clean text, with a check for NaN values\n",
        "def clean_text(text):\n",
        "    if isinstance(text, str):  # Check if the value is a string\n",
        "        text = text.lower()  # Convert to lowercase\n",
        "        text = re.sub(r'[^\\w\\s]', '', text)  # Remove punctuation\n",
        "        text = re.sub(r'\\d+', '', text)  # Remove numbers\n",
        "        return text\n",
        "    return ''  # If the value is not a string, return an empty string or NaN\n",
        "\n",
        "# Apply the cleaning function to 'verified_reviews' column, ignoring NaNs\n",
        "data['cleaned_reviews'] = data['verified_reviews'].apply(clean_text)\n",
        "\n",
        "# Check the cleaned data\n",
        "data[['verified_reviews', 'cleaned_reviews']].head()"
      ]
    },
    {
      "cell_type": "markdown",
      "id": "abdfc7fe",
      "metadata": {
        "id": "abdfc7fe"
      },
      "source": [
        "# Vectorizing the text data"
      ]
    },
    {
      "cell_type": "code",
      "execution_count": null,
      "id": "2cb1db9b",
      "metadata": {
        "id": "2cb1db9b",
        "outputId": "eb21c48b-b835-4a7d-8b9f-0e40ca2995a0"
      },
      "outputs": [
        {
          "data": {
            "text/html": [
              "<div>\n",
              "<style scoped>\n",
              "    .dataframe tbody tr th:only-of-type {\n",
              "        vertical-align: middle;\n",
              "    }\n",
              "\n",
              "    .dataframe tbody tr th {\n",
              "        vertical-align: top;\n",
              "    }\n",
              "\n",
              "    .dataframe thead th {\n",
              "        text-align: right;\n",
              "    }\n",
              "</style>\n",
              "<table border=\"1\" class=\"dataframe\">\n",
              "  <thead>\n",
              "    <tr style=\"text-align: right;\">\n",
              "      <th></th>\n",
              "      <th>ability</th>\n",
              "      <th>able</th>\n",
              "      <th>absolutely</th>\n",
              "      <th>access</th>\n",
              "      <th>account</th>\n",
              "      <th>actually</th>\n",
              "      <th>add</th>\n",
              "      <th>added</th>\n",
              "      <th>adding</th>\n",
              "      <th>addition</th>\n",
              "      <th>...</th>\n",
              "      <th>working</th>\n",
              "      <th>works</th>\n",
              "      <th>worth</th>\n",
              "      <th>wouldnt</th>\n",
              "      <th>wrong</th>\n",
              "      <th>year</th>\n",
              "      <th>years</th>\n",
              "      <th>yes</th>\n",
              "      <th>youre</th>\n",
              "      <th>youtube</th>\n",
              "    </tr>\n",
              "  </thead>\n",
              "  <tbody>\n",
              "    <tr>\n",
              "      <th>0</th>\n",
              "      <td>0.0</td>\n",
              "      <td>0.000000</td>\n",
              "      <td>0.0</td>\n",
              "      <td>0.0</td>\n",
              "      <td>0.0</td>\n",
              "      <td>0.0</td>\n",
              "      <td>0.0</td>\n",
              "      <td>0.0</td>\n",
              "      <td>0.0</td>\n",
              "      <td>0.0</td>\n",
              "      <td>...</td>\n",
              "      <td>0.0</td>\n",
              "      <td>0.0</td>\n",
              "      <td>0.0</td>\n",
              "      <td>0.0</td>\n",
              "      <td>0.00000</td>\n",
              "      <td>0.0</td>\n",
              "      <td>0.0</td>\n",
              "      <td>0.0</td>\n",
              "      <td>0.0</td>\n",
              "      <td>0.0</td>\n",
              "    </tr>\n",
              "    <tr>\n",
              "      <th>1</th>\n",
              "      <td>0.0</td>\n",
              "      <td>0.000000</td>\n",
              "      <td>0.0</td>\n",
              "      <td>0.0</td>\n",
              "      <td>0.0</td>\n",
              "      <td>0.0</td>\n",
              "      <td>0.0</td>\n",
              "      <td>0.0</td>\n",
              "      <td>0.0</td>\n",
              "      <td>0.0</td>\n",
              "      <td>...</td>\n",
              "      <td>0.0</td>\n",
              "      <td>0.0</td>\n",
              "      <td>0.0</td>\n",
              "      <td>0.0</td>\n",
              "      <td>0.00000</td>\n",
              "      <td>0.0</td>\n",
              "      <td>0.0</td>\n",
              "      <td>0.0</td>\n",
              "      <td>0.0</td>\n",
              "      <td>0.0</td>\n",
              "    </tr>\n",
              "    <tr>\n",
              "      <th>2</th>\n",
              "      <td>0.0</td>\n",
              "      <td>0.235807</td>\n",
              "      <td>0.0</td>\n",
              "      <td>0.0</td>\n",
              "      <td>0.0</td>\n",
              "      <td>0.0</td>\n",
              "      <td>0.0</td>\n",
              "      <td>0.0</td>\n",
              "      <td>0.0</td>\n",
              "      <td>0.0</td>\n",
              "      <td>...</td>\n",
              "      <td>0.0</td>\n",
              "      <td>0.0</td>\n",
              "      <td>0.0</td>\n",
              "      <td>0.0</td>\n",
              "      <td>0.33587</td>\n",
              "      <td>0.0</td>\n",
              "      <td>0.0</td>\n",
              "      <td>0.0</td>\n",
              "      <td>0.0</td>\n",
              "      <td>0.0</td>\n",
              "    </tr>\n",
              "    <tr>\n",
              "      <th>3</th>\n",
              "      <td>0.0</td>\n",
              "      <td>0.000000</td>\n",
              "      <td>0.0</td>\n",
              "      <td>0.0</td>\n",
              "      <td>0.0</td>\n",
              "      <td>0.0</td>\n",
              "      <td>0.0</td>\n",
              "      <td>0.0</td>\n",
              "      <td>0.0</td>\n",
              "      <td>0.0</td>\n",
              "      <td>...</td>\n",
              "      <td>0.0</td>\n",
              "      <td>0.0</td>\n",
              "      <td>0.0</td>\n",
              "      <td>0.0</td>\n",
              "      <td>0.00000</td>\n",
              "      <td>0.0</td>\n",
              "      <td>0.0</td>\n",
              "      <td>0.0</td>\n",
              "      <td>0.0</td>\n",
              "      <td>0.0</td>\n",
              "    </tr>\n",
              "    <tr>\n",
              "      <th>4</th>\n",
              "      <td>0.0</td>\n",
              "      <td>0.000000</td>\n",
              "      <td>0.0</td>\n",
              "      <td>0.0</td>\n",
              "      <td>0.0</td>\n",
              "      <td>0.0</td>\n",
              "      <td>0.0</td>\n",
              "      <td>0.0</td>\n",
              "      <td>0.0</td>\n",
              "      <td>0.0</td>\n",
              "      <td>...</td>\n",
              "      <td>0.0</td>\n",
              "      <td>0.0</td>\n",
              "      <td>0.0</td>\n",
              "      <td>0.0</td>\n",
              "      <td>0.00000</td>\n",
              "      <td>0.0</td>\n",
              "      <td>0.0</td>\n",
              "      <td>0.0</td>\n",
              "      <td>0.0</td>\n",
              "      <td>0.0</td>\n",
              "    </tr>\n",
              "  </tbody>\n",
              "</table>\n",
              "<p>5 rows × 500 columns</p>\n",
              "</div>"
            ],
            "text/plain": [
              "   ability      able  absolutely  access  account  actually  add  added   \n",
              "0      0.0  0.000000         0.0     0.0      0.0       0.0  0.0    0.0  \\\n",
              "1      0.0  0.000000         0.0     0.0      0.0       0.0  0.0    0.0   \n",
              "2      0.0  0.235807         0.0     0.0      0.0       0.0  0.0    0.0   \n",
              "3      0.0  0.000000         0.0     0.0      0.0       0.0  0.0    0.0   \n",
              "4      0.0  0.000000         0.0     0.0      0.0       0.0  0.0    0.0   \n",
              "\n",
              "   adding  addition  ...  working  works  worth  wouldnt    wrong  year   \n",
              "0     0.0       0.0  ...      0.0    0.0    0.0      0.0  0.00000   0.0  \\\n",
              "1     0.0       0.0  ...      0.0    0.0    0.0      0.0  0.00000   0.0   \n",
              "2     0.0       0.0  ...      0.0    0.0    0.0      0.0  0.33587   0.0   \n",
              "3     0.0       0.0  ...      0.0    0.0    0.0      0.0  0.00000   0.0   \n",
              "4     0.0       0.0  ...      0.0    0.0    0.0      0.0  0.00000   0.0   \n",
              "\n",
              "   years  yes  youre  youtube  \n",
              "0    0.0  0.0    0.0      0.0  \n",
              "1    0.0  0.0    0.0      0.0  \n",
              "2    0.0  0.0    0.0      0.0  \n",
              "3    0.0  0.0    0.0      0.0  \n",
              "4    0.0  0.0    0.0      0.0  \n",
              "\n",
              "[5 rows x 500 columns]"
            ]
          },
          "execution_count": 6,
          "metadata": {},
          "output_type": "execute_result"
        }
      ],
      "source": [
        "from sklearn.feature_extraction.text import TfidfVectorizer\n",
        "\n",
        "# Initialize the TfidfVectorizer\n",
        "vectorizer = TfidfVectorizer(max_features=500, stop_words='english')\n",
        "\n",
        "# Fit and transform the cleaned reviews\n",
        "X = vectorizer.fit_transform(data['cleaned_reviews'])\n",
        "\n",
        "# Convert the resulting sparse matrix to a DataFrame for better readability\n",
        "X_df = pd.DataFrame(X.toarray(), columns=vectorizer.get_feature_names_out())\n",
        "\n",
        "# Display first few rows\n",
        "X_df.head()"
      ]
    },
    {
      "cell_type": "markdown",
      "id": "d20a887c",
      "metadata": {
        "id": "d20a887c"
      },
      "source": [
        "# Build a classification model, split the data into training and testing sets"
      ]
    },
    {
      "cell_type": "code",
      "execution_count": null,
      "id": "49d6b4e8",
      "metadata": {
        "id": "49d6b4e8",
        "outputId": "3c67574f-5fab-4f5c-b34c-0c9043c3f956"
      },
      "outputs": [
        {
          "name": "stdout",
          "output_type": "stream",
          "text": [
            "(2520, 500) (630, 500)\n"
          ]
        }
      ],
      "source": [
        "from sklearn.model_selection import train_test_split\n",
        "\n",
        "# Define the target variable (feedback) and the feature matrix (X)\n",
        "y = data['feedback']\n",
        "X_train, X_test, y_train, y_test = train_test_split(X_df, y, test_size=0.2, random_state=42)\n",
        "\n",
        "# Check the shape of the training and testing data\n",
        "print(X_train.shape, X_test.shape)"
      ]
    },
    {
      "cell_type": "markdown",
      "id": "8420f5e7",
      "metadata": {
        "id": "8420f5e7"
      },
      "source": [
        "# Logistic regression as our classifier"
      ]
    },
    {
      "cell_type": "code",
      "execution_count": null,
      "id": "770ddacc",
      "metadata": {
        "id": "770ddacc"
      },
      "outputs": [],
      "source": [
        "from sklearn.linear_model import LogisticRegression\n",
        "\n",
        "# Initialize the Logistic Regression model\n",
        "clf = LogisticRegression()\n",
        "\n",
        "# Train the model on the training data\n",
        "clf.fit(X_train, y_train)\n",
        "\n",
        "# Make predictions on the test data\n",
        "y_pred = clf.predict(X_test)"
      ]
    },
    {
      "cell_type": "code",
      "execution_count": null,
      "id": "59fa24bf",
      "metadata": {
        "id": "59fa24bf",
        "outputId": "f82986e0-22d0-4e63-c870-37ff869391b7"
      },
      "outputs": [
        {
          "name": "stdout",
          "output_type": "stream",
          "text": [
            "Accuracy: 0.9142857142857143\n",
            "              precision    recall  f1-score   support\n",
            "\n",
            "           0       1.00      0.07      0.13        58\n",
            "           1       0.91      1.00      0.95       572\n",
            "\n",
            "    accuracy                           0.91       630\n",
            "   macro avg       0.96      0.53      0.54       630\n",
            "weighted avg       0.92      0.91      0.88       630\n",
            "\n"
          ]
        }
      ],
      "source": [
        "from sklearn.metrics import classification_report, accuracy_score\n",
        "\n",
        "# Print the accuracy score\n",
        "print(\"Accuracy:\", accuracy_score(y_test, y_pred))\n",
        "\n",
        "# Print the full classification report\n",
        "print(classification_report(y_test, y_pred))"
      ]
    },
    {
      "cell_type": "markdown",
      "id": "e41f080d",
      "metadata": {
        "id": "e41f080d"
      },
      "source": [
        "# Text Classification on Amazon Alexa Reviews\n",
        "\n",
        "## Overview\n",
        "The goal of this project was to classify customer reviews of Amazon Alexa devices as either positive or negative based on the content of their text. The dataset contained various fields like `rating`, `variation`, and `verified_reviews`, but the core focus was on analyzing the `verified_reviews` column. We used natural language processing techniques to preprocess the text data and trained a logistic regression model to predict whether a review was positive (class 1) or negative (class 0).\n",
        "\n",
        "## Steps\n",
        "\n",
        "### 1. Data Preprocessing\n",
        "We began by cleaning the text in the `verified_reviews` column. The preprocessing steps included:\n",
        "- Removing punctuation and special characters.\n",
        "- Converting all text to lowercase.\n",
        "- Removing stop words such as \"and\", \"the\", \"is\" to retain only meaningful words.\n",
        "- Applying lemmatization to reduce words to their base forms.\n",
        "\n",
        "Here is a sample of the cleaned text:\n",
        "\n",
        "| Original Review | Cleaned Review |\n",
        "| --------------- | -------------- |\n",
        "| \"Love my Echo!\" | \"love my echo\" |\n",
        "| \"Loved it!\" | \"loved it\" |\n",
        "| \"Sometimes while playing a game, you can answer a question correctly but Alexa says you got it wrong and answers the same as you.\" | \"sometimes while playing a game you can answer question correctly alexa says got wrong answers same\" |\n",
        "\n",
        "### 2. Vectorization\n",
        "After cleaning the text, we transformed the text data into numerical features using TF-IDF Vectorization. This step converts the text into a matrix where each row represents a review and each column represents a word from the reviews. The values in the matrix indicate the importance of each word in each review.\n",
        "\n",
        "### 3. Model Building\n",
        "We built a Logistic Regression model to classify the reviews. The model was trained on the vectorized text data and aimed to predict whether a review was positive (class 1) or negative (class 0).\n",
        "\n",
        "### 4. Model Evaluation\n",
        "The model was evaluated using several metrics, including accuracy, precision, recall, and F1-score. Here's a summary of the results:\n",
        "\n",
        "- **Accuracy**: 91.43%\n",
        "- **Precision**:\n",
        "    - Class 0: 1.00\n",
        "    - Class 1: 0.91\n",
        "- **Recall**:\n",
        "    - Class 0: 0.07\n",
        "    - Class 1: 1.00\n",
        "- **F1-Score**:\n",
        "    - Class 0: 0.13\n",
        "    - Class 1: 0.95\n",
        "\n",
        "| Class | Precision | Recall | F1-Score | Support |\n",
        "|-------|-----------|--------|----------|---------|\n",
        "| 0     | 1.00      | 0.07   | 0.13     | 58      |\n",
        "| 1     | 0.91      | 1.00   | 0.95     | 572     |\n",
        "\n",
        "### Conclusion\n",
        "The Logistic Regression model performed well on predicting positive reviews (class 1), but it struggled with negative reviews (class 0) due to the class imbalance. This issue is common when one class has significantly fewer samples than the other. Despite this, the model achieved an overall accuracy of 91.43%, showing that it can effectively classify most reviews as positive.\n",
        "\n",
        "### Future Improvements\n",
        "To improve performance, especially on class 0 (negative reviews), we could:\n",
        "- Use **class weighting** in the Logistic Regression model to give more importance to the minority class.\n",
        "- Apply **over-sampling** techniques like SMOTE to increase the number of negative reviews in the training set.\n",
        "- Experiment with other machine learning models such as Random Forest or Support Vector Machines."
      ]
    },
    {
      "cell_type": "code",
      "execution_count": null,
      "id": "a5fb3534",
      "metadata": {
        "id": "a5fb3534"
      },
      "outputs": [],
      "source": []
    }
  ],
  "metadata": {
    "kernelspec": {
      "display_name": "Python 3 (ipykernel)",
      "language": "python",
      "name": "python3"
    },
    "language_info": {
      "codemirror_mode": {
        "name": "ipython",
        "version": 3
      },
      "file_extension": ".py",
      "mimetype": "text/x-python",
      "name": "python",
      "nbconvert_exporter": "python",
      "pygments_lexer": "ipython3",
      "version": "3.10.11"
    },
    "colab": {
      "provenance": []
    }
  },
  "nbformat": 4,
  "nbformat_minor": 5
}