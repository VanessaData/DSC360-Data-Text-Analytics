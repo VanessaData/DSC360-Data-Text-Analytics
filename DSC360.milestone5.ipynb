{
  "cells": [
    {
      "cell_type": "markdown",
      "source": [
        "## Vanessa Williams\n",
        "## Final Milestone"
      ],
      "metadata": {
        "id": "lYKkd99blMBc"
      },
      "id": "lYKkd99blMBc"
    },
    {
      "cell_type": "markdown",
      "id": "1454d408",
      "metadata": {
        "id": "1454d408"
      },
      "source": [
        "# Project Milestone 5: Complete the Project\n",
        "\n",
        "## Objective\n",
        "The primary objective of this project was to analyze a text dataset, uncover key themes, and extract important entities. We aimed to build a foundational model that could perform clustering to identify common topics and apply Named Entity Recognition (NER) to extract specific entities, such as people, locations, and organizations. This milestone consolidates previous analyses, summarizes key insights, and highlights how our model has effectively captured the main themes within the dataset.\n",
        "\n",
        "## Methodology\n",
        "\n",
        "### 1. Data Preprocessing\n",
        "- **Cleaning**: We began by cleaning the text data to enhance analysis accuracy. This involved:\n",
        "  - Removing non-alphabetic characters.\n",
        "  - Converting all text to lowercase to ensure consistency.\n",
        "  - Eliminating common stopwords using NLTK’s stopword list.\n",
        "  \n",
        "- **TF-IDF Vectorization**: After preprocessing, we applied TF-IDF (Term Frequency-Inverse Document Frequency) vectorization to convert the cleaned text into a numerical format suitable for clustering. We retained the top 1,000 terms to maintain computational efficiency and capture the most significant features of the text.\n",
        "\n",
        "### 2. Clustering with KMeans\n",
        "- We used the KMeans clustering algorithm to group the text data into 5 clusters, based on the TF-IDF matrix.\n",
        "- By examining the top terms in each cluster, we identified common themes that reflect the content and focus of the dataset.\n",
        "\n",
        "### 3. Named Entity Recognition (NER)\n",
        "- To extract specific entities from the text, we utilized spaCy’s NER model (`en_core_web_sm`). This allowed us to identify people, organizations, locations, and other key entities mentioned within each sentence.\n",
        "- NER results provided context for each cluster, highlighting relevant entities within the themes discovered.\n",
        "\n",
        "## Results and Insights\n",
        "\n",
        "### Clustering Analysis\n",
        "Each cluster represents a distinct topic or theme within the dataset. Below are the top terms for each cluster, which reveal the thematic focus:\n",
        "\n",
        "- **Cluster 0**: This cluster primarily centers around government and international relations, with frequent mentions of terms like \"government,\" \"minister,\" \"united,\" and \"country.\"\n",
        "- **Cluster 1**: Themes of conflict and incidents of violence are evident in this cluster, highlighted by terms like \"people,\" \"killed,\" \"bomb,\" and \"police.\"\n",
        "- **Cluster 2**: Focuses on official statements and announcements, with terms such as \"said,\" \"officials,\" and \"statement\" commonly occurring, suggesting this cluster includes press releases and formal communications.\n",
        "- **Cluster 3**: Relates to law enforcement and public safety, featuring terms like \"police,\" \"authorities,\" and \"security.\"\n",
        "- **Cluster 4**: Centers around political figures and leadership, with prominent terms like \"president,\" \"bush,\" and \"chavez.\"\n",
        "\n",
        "### Named Entity Recognition (NER) Insights\n",
        "The NER analysis added depth to our understanding of the clusters by identifying key entities. Some examples include:\n",
        "- **Political Leaders and Locations**: In clusters focused on government or conflict, entities related to countries and high-profile leaders frequently appeared.\n",
        "- **Themes of Conflict**: In clusters associated with incidents or violence, the NER analysis highlighted terms related to police and authority figures, giving context to the public safety topics within these clusters.\n",
        "\n",
        "### Observations\n",
        "- **Topic Separation**: The clustering results demonstrated a clear separation of themes, suggesting that the text data is organized into well-defined topics.\n",
        "- **Entity Patterns**: NER analysis revealed consistent patterns of certain types of entities across specific clusters, enabling a deeper understanding of the topics.\n",
        "- **Model Accuracy and Relevance**: The clustering and NER combination effectively captured the main subjects discussed in the text, setting a solid foundation for more complex models in the future.\n",
        "\n",
        "## Conclusion\n",
        "In this milestone, we finalized our model by analyzing key themes within the dataset and identifying specific entities through Named Entity Recognition. Our findings revealed distinct topics, such as government relations, public safety, and incidents involving violence. Each cluster provided insights into the common subjects within the dataset, and the NER analysis highlighted the central entities involved.\n",
        "\n",
        "### Future Work\n",
        "For further analysis, we could refine the model by exploring additional NER models or experimenting with alternative clustering techniques, such as hierarchical clustering. Additionally, sentiment analysis could add another layer of understanding to the text by examining the emotional tone associated with different topics and entities.\n",
        "\n",
        "### Final Thoughts\n",
        "This project demonstrates how clustering and NER can be used to explore and interpret text data effectively. By uncovering the main themes and extracting relevant entities, we gain a comprehensive understanding of the dataset’s structure and content. These techniques are essential for organizing and summarizing large text corpora, providing a basis for in-depth topic analysis and trend detection."
      ]
    },
    {
      "cell_type": "code",
      "execution_count": null,
      "id": "9ba40aa2",
      "metadata": {
        "id": "9ba40aa2"
      },
      "outputs": [],
      "source": []
    }
  ],
  "metadata": {
    "kernelspec": {
      "display_name": "Python 3 (ipykernel)",
      "language": "python",
      "name": "python3"
    },
    "language_info": {
      "codemirror_mode": {
        "name": "ipython",
        "version": 3
      },
      "file_extension": ".py",
      "mimetype": "text/x-python",
      "name": "python",
      "nbconvert_exporter": "python",
      "pygments_lexer": "ipython3",
      "version": "3.10.11"
    },
    "colab": {
      "provenance": []
    }
  },
  "nbformat": 4,
  "nbformat_minor": 5
}